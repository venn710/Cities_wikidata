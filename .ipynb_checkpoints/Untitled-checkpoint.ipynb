{
 "cells": [
  {
   "cell_type": "code",
   "execution_count": 116,
   "id": "c318c3a3",
   "metadata": {},
   "outputs": [],
   "source": [
    "import pandas as pd\n",
    "import re"
   ]
  },
  {
   "cell_type": "code",
   "execution_count": 32,
   "id": "456ac480",
   "metadata": {},
   "outputs": [],
   "source": [
    "df=pd.read_excel(r\"C:/Users/19493/Downloads/cities_multulingual_wikidata.xlsx\")"
   ]
  },
  {
   "cell_type": "code",
   "execution_count": 117,
   "id": "435045f1",
   "metadata": {},
   "outputs": [
    {
     "data": {
      "text/plain": [
       "Index(['wikidata_id', 'property', 'English (en)', 'Hindi (hi)', 'Telugu (te)',\n",
       "       'Bengali (bn)', 'Punjabi (pa)', 'Urdu (ur)', 'Odia (or)',\n",
       "       'Assamese (as)', 'Gujarati (gu)', 'Marathi (mr)', 'Kannada (kn)',\n",
       "       'Tamil (ta)', 'Malayalam (ml)'],\n",
       "      dtype='object')"
      ]
     },
     "execution_count": 117,
     "metadata": {},
     "output_type": "execute_result"
    }
   ],
   "source": [
    "df.columns"
   ]
  },
  {
   "cell_type": "code",
   "execution_count": 118,
   "id": "b79c2d19",
   "metadata": {},
   "outputs": [],
   "source": [
    "df1 = df.where(pd.notnull(df), None)"
   ]
  },
  {
   "cell_type": "code",
   "execution_count": 149,
   "id": "b3c064d5",
   "metadata": {
    "scrolled": true
   },
   "outputs": [
    {
     "name": "stdout",
     "output_type": "stream",
     "text": [
      "['Amuntai', 'Hulu Sungai Utara', 'Indonesia', 'city']\n"
     ]
    }
   ],
   "source": [
    "res=df1['property'][333936:333941]\n",
    "indexes=[]\n",
    "values=[]\n",
    "for i in range(333936,333941):\n",
    "    if(res[i]!=None):\n",
    "        indexes.append(i)\n",
    "#         print(df1['property'][i])\n",
    "#         df1['English(en)'][]\n",
    "# print(res[indexes[-1]])\n",
    "for j in range(0,len(indexes)-1):\n",
    "    values.append(df1['English (en)'][indexes[j]:indexes[j+1]].to_string(index=False))\n",
    "for i in range(0,len(values)):\n",
    "    values[i]=' and '.join(values[i].split('\\n'))\n",
    "    values[i]=re.sub(' +', ' ',values[i])\n",
    "    values[i]=values[i].strip()\n",
    "print(values)"
   ]
  },
  {
   "cell_type": "code",
   "execution_count": 147,
   "id": "93491ccd",
   "metadata": {},
   "outputs": [
    {
     "name": "stdout",
     "output_type": "stream",
     "text": [
      "{'entity_name': 'Kamsar', 'country': 'Guinea', 'instance of': 'city', 'located in the administrative territorial entity': 'Kamsar'}\n"
     ]
    }
   ],
   "source": [
    "d=dict(zip(res[indexes],values))\n",
    "print(d)"
   ]
  },
  {
   "cell_type": "code",
   "execution_count": 113,
   "id": "5129d39e",
   "metadata": {},
   "outputs": [],
   "source": [
    "df4 = df.where(pd.notnull(df), None)\n",
    "fin_indexes=df4['wikidata_id']\n",
    "final_indexes=[]\n",
    "for i in range(0,len(fin_indexes)):\n",
    "    if fin_indexes[i]!=None:\n",
    "        final_indexes.append(i)"
   ]
  },
  {
   "cell_type": "code",
   "execution_count": 185,
   "id": "c8554e6d",
   "metadata": {},
   "outputs": [
    {
     "name": "stdout",
     "output_type": "stream",
     "text": [
      "57\n"
     ]
    }
   ],
   "source": [
    "df10 = df.where(pd.notnull(df), None)\n",
    "final_dict=[]\n",
    "final_indexes_2=[]\n",
    "for k in range(0,len(final_indexes)-1):\n",
    "    res=df10['property'][final_indexes[k]:final_indexes[k+1]+1]\n",
    "    indexes=[]\n",
    "    values=[]\n",
    "    for i in range(final_indexes[k],final_indexes[k+1]+1):\n",
    "        if(res[i]!=None):\n",
    "            indexes.append(i)\n",
    "    for j in range(0,len(indexes)-1):\n",
    "        values.append(df10['English (en)'][indexes[j]:indexes[j+1]].to_string(index=False))\n",
    "    for i in range(0,len(values)):\n",
    "        values[i]=' and '.join(values[i].split('\\n'))\n",
    "        values[i]=re.sub(' +', ' ',values[i])\n",
    "        values[i]=values[i].strip()\n",
    "    d=dict(zip(res[indexes],values))\n",
    "    final_dict.append(d)"
   ]
  },
  {
   "cell_type": "code",
   "execution_count": 189,
   "id": "ea0a572a",
   "metadata": {},
   "outputs": [],
   "source": [
    "final_dict_keys=[]\n",
    "for di in final_dict:\n",
    "    final_dict_keys.extend(list(di.keys()))"
   ]
  },
  {
   "cell_type": "code",
   "execution_count": 192,
   "id": "8cccb475",
   "metadata": {},
   "outputs": [],
   "source": [
    "final_dict_keys_1=[]\n",
    "for j in final_dict_keys:\n",
    "    if j in final_dict_keys_1:\n",
    "        pass\n",
    "    else:\n",
    "        final_dict_keys_1.append(j)"
   ]
  },
  {
   "cell_type": "code",
   "execution_count": 211,
   "id": "19028a7b",
   "metadata": {},
   "outputs": [],
   "source": [
    "final_list_tobe_dataframed=[]\n",
    "for di1 in final_dict:\n",
    "    final_list_tobe_dataframed_1=[]\n",
    "    for keys in final_dict_keys_1:\n",
    "        try:\n",
    "            final_list_tobe_dataframed_1.append(di1[keys])\n",
    "        except:\n",
    "            final_list_tobe_dataframed_1.append('None')\n",
    "    final_list_tobe_dataframed.append(final_list_tobe_dataframed_1)"
   ]
  },
  {
   "cell_type": "code",
   "execution_count": 214,
   "id": "1f7f8a99",
   "metadata": {},
   "outputs": [],
   "source": [
    "final_df=pd.DataFrame(final_list_tobe_dataframed,columns=final_dict_keys_1)\n",
    "final_df.to_csv('final_df_1.csv')"
   ]
  }
 ],
 "metadata": {
  "kernelspec": {
   "display_name": "Python 3",
   "language": "python",
   "name": "python3"
  },
  "language_info": {
   "codemirror_mode": {
    "name": "ipython",
    "version": 3
   },
   "file_extension": ".py",
   "mimetype": "text/x-python",
   "name": "python",
   "nbconvert_exporter": "python",
   "pygments_lexer": "ipython3",
   "version": "3.7.9"
  }
 },
 "nbformat": 4,
 "nbformat_minor": 5
}
